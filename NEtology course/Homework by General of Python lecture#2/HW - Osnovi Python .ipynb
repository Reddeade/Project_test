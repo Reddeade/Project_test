{
 "cells": [
  {
   "cell_type": "markdown",
   "metadata": {},
   "source": [
    "## Задание №1\n",
    "### Фразы\n"
   ]
  },
  {
   "cell_type": "code",
   "execution_count": 26,
   "metadata": {},
   "outputs": [
    {
     "name": "stdout",
     "output_type": "stream",
     "text": [
      "Насколько проще было бы писать программы, если бы не заказчики\n",
      "640Кб должно хватить для любых задач. Билл Гейтс (по легенде)\n",
      "Фраза 1 длиннее фразы 2\n",
      "введите фразу 1 - авв\n",
      "введите фразу 2 - вы\n",
      "НЕВЕРНО, НЕПОДХОДЯЩАЯ ФРАЗА\n",
      "введите фразу 1 - вв\n",
      "введите фразу 2 - вв\n",
      "Фразы равной длины\n"
     ]
    }
   ],
   "source": [
    "phrase_1= 'Насколько проще было бы писать программы, если бы не заказчики'\n",
    "print (phrase_1)\n",
    "phrase_2= '640Кб должно хватить для любых задач. Билл Гейтс (по легенде)'\n",
    "print (phrase_2)\n",
    "if len(phrase_1)>len(phrase_2):\n",
    "    print('Фраза 1 длиннее фразы 2')\n",
    "phrase_1=input('введите фразу 1 - ')\n",
    "phrase_2=input('введите фразу 2 - ')\n",
    "if len(phrase_1)<len(phrase_2):\n",
    "    print('Фраза 2 длиннее фразы 1')\n",
    "else:\n",
    "    print('НЕВЕРНО, НЕПОДХОДЯЩАЯ ФРАЗА')\n",
    "phrase_1=input('введите фразу 1 - ')\n",
    "phrase_2=input('введите фразу 2 - ')\n",
    "if len(phrase_1)==len(phrase_2):\n",
    "    print('Фразы равной длины')\n",
    "else:\n",
    "    print('НЕВЕРНО, НЕПОДХОДЯЩАЯ ФРАЗА')"
   ]
  },
  {
   "cell_type": "code",
   "execution_count": null,
   "metadata": {},
   "outputs": [],
   "source": [
    "phrase_1 = 'Насколько проще было бы писать программы, если бы не заказчики'\n",
    "phrase_2 = '640Кб должно хватить для любых задач. Билл Гейтс (по легенде)'\n",
    "if len(phrase_1)>len(phrase_2):\n",
    "    print('Фраза 1 длиннее фразы 2')\n",
    "phrase_1 = '640Кб должно хватить для любых задач. Билл Гейтс (по легенде)'\n",
    "phrase_2 = 'Насколько проще было бы писать программы, если бы не заказчики'\n",
    "if len(phrase_1)<len(phrase_2):\n",
    "    print('Фраза 2 длиннее фразы 1')\n",
    "phrase_1 = 'Насколько проще было бы писать программы, если бы не заказчики'\n",
    "phrase_2 = 'Насколько проще было бы писать программы, если бы не заказчики'\n",
    "if len(phrase_1)==len(phrase_2):\n",
    "    print('Фразы равной длины')"
   ]
  },
  {
   "cell_type": "markdown",
   "metadata": {},
   "source": [
    "## Задание №2\n",
    "### Годы"
   ]
  },
  {
   "cell_type": "code",
   "execution_count": null,
   "metadata": {
    "scrolled": true
   },
   "outputs": [],
   "source": [
    "year=int (input('year = '))\n",
    "if year % 400 == 0:\n",
    "    print('високосный')\n",
    "elif year % 4 == 0:\n",
    "    print('високосный год')\n",
    "elif year % 100 == 0:\n",
    "    print('обычный год')\n",
    "else:\n",
    "    print('обычный год')"
   ]
  },
  {
   "cell_type": "markdown",
   "metadata": {},
   "source": [
    "## Задание №3\n",
    "### Знак зодиака"
   ]
  },
  {
   "cell_type": "code",
   "execution_count": null,
   "metadata": {},
   "outputs": [],
   "source": [
    "date=int (input ('Введите дату '))\n",
    "month=(input ('Введите месяц '))\n",
    "if date >=21 and month=='Январь' or date<=19 and month=='Февраль':\n",
    "    print ('Ваш знак зодиака: Водолей')\n",
    "elif date >=20 and month =='Февраль' or date <=20 and month =='Март':\n",
    "    print ('Ваш знак зодиака: Рыба')\n",
    "elif date >=22 and month=='Декабрь' or date<=20 and month=='Январь':\n",
    "    print ('Ваш знак зодиака: Козерог')\n",
    "elif date >=22 and month=='Ноябрь' or date<=21 and month=='Декабрь':\n",
    "    print ('Ваш знак зодиака: Стрелец')\n",
    "elif date >=23 and month=='Октябрь' or date<=21 and month=='Ноябрь':\n",
    "    print ('Ваш знак зодиака: Скорпион')\n",
    "elif date >=23 and month=='Сентябрь' or date<=22 and month=='Октябрь':\n",
    "    print ('Ваш знак зодиака: Весы')\n",
    "elif date >=24 and month=='Август' or date<=22 and month=='Сентябрь':\n",
    "    print ('Ваш знак зодиака: Дева')\n",
    "elif date >=23 and month=='Июль' or date<=23 and month=='Август':\n",
    "    print ('Ваш знак зодиака: Лев')\n",
    "elif date >=22 and month=='Июнь' or date<=22 and month=='Июль':\n",
    "    print ('Ваш знак зодиака: Рак')\n",
    "elif date >=22 and month=='Май' or date<=21 and month=='Июнь':\n",
    "    print ('Ваш знак зодиака: Близнецы')\n",
    "elif date >=21 and month=='Апрель' or date<=21 and month=='Май':\n",
    "    print ('Ваш знак зодиака: Телец')\n",
    "elif date >=20 and month=='Март' or date<=19 and month=='Апрель':\n",
    "    print ('Ваш знак зодиака: Овен')"
   ]
  },
  {
   "cell_type": "markdown",
   "metadata": {},
   "source": [
    "## Задание №4\n",
    "### Упаковка\n"
   ]
  },
  {
   "cell_type": "code",
   "execution_count": null,
   "metadata": {},
   "outputs": [],
   "source": [
    "width= int (input ('введите ширину '))\n",
    "length= int (input ('введите длину '))\n",
    "height= int (input ('введите высоту '))\n",
    "if width<15 and length<15 and height<15:\n",
    "    print ('Коробка №1')\n",
    "elif ((width<50 and width>15 or\n",
    "       length<50 and length>15) and \n",
    "  (height<50 and height>15)):\n",
    "        print ('Коробка №2')\n",
    "elif height>200:\n",
    "    print ('Упаковка для лыж')\n",
    "else:\n",
    "    print ('Стандартная коробка №3')"
   ]
  },
  {
   "cell_type": "markdown",
   "metadata": {},
   "source": [
    "## Задание №5\n",
    "### Счастливый билет"
   ]
  },
  {
   "cell_type": "code",
   "execution_count": 3,
   "metadata": {},
   "outputs": [
    {
     "name": "stdout",
     "output_type": "stream",
     "text": [
      "ВВЕДИТЕ НОМЕР БИЛЕТА 123432\n",
      "Неасчастливый билет\n"
     ]
    }
   ],
   "source": [
    "x= int (input ('ВВЕДИТЕ НОМЕР БИЛЕТА '))\n",
    "q=x//100000\n",
    "w=(x%100000)//10000\n",
    "e=(x%10000)//1000\n",
    "r=(x%1000)//100\n",
    "t=(x%100)//10\n",
    "y=(x%10)//1\n",
    "if q+w+e==r+t+y:\n",
    "    print ('Счастливый билет')\n",
    "else:\n",
    "    print ('Неасчастливый билет')"
   ]
  },
  {
   "cell_type": "markdown",
   "metadata": {},
   "source": [
    "## Задание №6\n",
    "### Площадь фигуры"
   ]
  },
  {
   "cell_type": "code",
   "execution_count": 25,
   "metadata": {},
   "outputs": [
    {
     "name": "stdout",
     "output_type": "stream",
     "text": [
      "Введите тип фигуры: RE\n",
      "ВВЕДЕНЫ НЕВЕРНАЯ ФИГУРА ИЛИ НЕУЧТЕН РЕГИСТР\n"
     ]
    }
   ],
   "source": [
    "k=(input ('Введите тип фигуры: '))\n",
    "if k==('Круг'):\n",
    "    d=int(input ('Введите диаметр: '))\n",
    "    print ('Площадь круга', (3.14*(d/2)**2))\n",
    "elif k==('Прямоугольник'):\n",
    "    a=int(input ('Введине сторону а: '))\n",
    "    b=int(input ('Введине сторону b: '))\n",
    "    print ('Площадь Прямоугольника', (a*b))\n",
    "elif k==('Треугольник'):\n",
    "    a=int(input ('Введине сторону а: '))\n",
    "    b=int(input ('Введине сторону b: '))\n",
    "    c=int(input ('Введине сторону c: '))\n",
    "    p= a/2+b/2+c/2\n",
    "    print ('Площадь Треугольника', (p*(p-2)*(p-b)*(p-c))**0.5)\n",
    "else:\n",
    "    print ('ВВЕДЕНЫ НЕВЕРНАЯ ФИГУРА ИЛИ НЕУЧТЕН РЕГИСТР')\n",
    "\n"
   ]
  }
 ],
 "metadata": {
  "kernelspec": {
   "display_name": "Python 3",
   "language": "python",
   "name": "python3"
  },
  "language_info": {
   "codemirror_mode": {
    "name": "ipython",
    "version": 3
   },
   "file_extension": ".py",
   "mimetype": "text/x-python",
   "name": "python",
   "nbconvert_exporter": "python",
   "pygments_lexer": "ipython3",
   "version": "3.8.3"
  }
 },
 "nbformat": 4,
 "nbformat_minor": 4
}
