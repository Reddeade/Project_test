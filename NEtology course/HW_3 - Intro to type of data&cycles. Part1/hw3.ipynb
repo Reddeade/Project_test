{
 "cells": [
  {
   "cell_type": "markdown",
   "metadata": {},
   "source": [
    "## **Домашняя работа к лекции \"Введение в типы данных и циклы. Часть 1\"**\n"
   ]
  },
  {
   "cell_type": "markdown",
   "metadata": {},
   "source": [
    "#### Задание 1\n",
    "__________________\n",
    "*Дана переменная, в которой хранится слово из латинских букв. Напишите код, который выводит на экран:*\n",
    "- *среднюю букву, если число букв в слове нечетное;*\n",
    "- *две средних буквы, если число букв четное.*"
   ]
  },
  {
   "cell_type": "code",
   "execution_count": null,
   "metadata": {},
   "outputs": [],
   "source": [
    "ph = input(str('input phrase '))\n",
    "l = len(ph)//2\n",
    "ph[l if len(ph) % 2 \n",
    "   else l - 1:l + 1]\n",
    "ph[l if len(ph) % 2\n",
    "   else l - 1:l + 1]\n",
    "\n",
    "\n"
   ]
  },
  {
   "cell_type": "markdown",
   "metadata": {},
   "source": [
    "### Задание 2\n",
    "__________________\n",
    "*Напишите программу, которая последовательно запрашивает у пользователя числа (по одному за раз)\n",
    "и после первого нуля выводит сумму всех ранее введенных чисел.*"
   ]
  },
  {
   "cell_type": "code",
   "execution_count": 8,
   "metadata": {},
   "outputs": [
    {
     "name": "stdout",
     "output_type": "stream",
     "text": [
      "3\n",
      "4\n",
      "0\n",
      "7\n"
     ]
    }
   ],
   "source": [
    "total = 0 \n",
    "while True:\n",
    "    n = int (input())\n",
    "    if n == 0: \n",
    "        break\n",
    "    total += n\n",
    "print(total)"
   ]
  },
  {
   "cell_type": "markdown",
   "metadata": {},
   "source": [
    "### Задание 3\n",
    "*Мы делаем MVP dating-сервиса, и у нас есть список парней и девушек.\n",
    "Выдвигаем гипотезу: лучшие рекомендации мы получим, если просто отсортируем имена по алфавиту и познакомим людей с одинаковыми индексами после сортировки! Но мы не будем никого знакомить, если кто-то может остаться без пары:*\n"
   ]
  },
  {
   "cell_type": "code",
   "execution_count": 91,
   "metadata": {},
   "outputs": [
    {
     "name": "stdout",
     "output_type": "stream",
     "text": [
      "Идеальные пары: \n",
      "Alex, and Emma\n",
      "Arthur, and Kate\n",
      "John, and Kira\n",
      "Peter, and Liza\n",
      "Richard, and Trisha\n"
     ]
    }
   ],
   "source": [
    "b = ['Peter', 'Alex', 'John', 'Arthur', 'Richard']\n",
    "g = ['Kate', 'Liza', 'Kira', 'Emma', 'Trisha'] \n",
    "b.sort(key=lambda i:i[0], reverse = False)\n",
    "g.sort(key=lambda i:i[0], reverse = False)\n",
    "print ('Идеальные пары: ')\n",
    "for i in range (len(b) or len (g)):\n",
    "    if len(b)==len(g):\n",
    "        print (f'{b[i]}, and {g[i]}')\n",
    "    else:\n",
    "        print ('Внимание, кто-то может остаться без пары!')\n",
    "        break\n",
    "    \n"
   ]
  },
  {
   "cell_type": "markdown",
   "metadata": {},
   "source": [
    "### Задание 4\n",
    "*У нас есть список, содержащий информацию о среднедневной температуре в Фаренгейтах за произвольный период по странам (структура данных в примере). Необходимо написать код, который рассчитает среднюю температуру за период в Цельсиях(!) для каждой страны.*"
   ]
  },
  {
   "cell_type": "code",
   "execution_count": 212,
   "metadata": {},
   "outputs": [
    {
     "name": "stdout",
     "output_type": "stream",
     "text": [
      "Средняя температура в странах\n",
      "Thailand - 23.3 oC\n",
      "Germany - 13.3 oC\n",
      "Russia - 3.3 oC\n",
      "Poland - 11.7 oC\n"
     ]
    }
   ],
   "source": [
    "countries_temperature = [\n",
    "    ['Thailand', [75.2, 77, 78.8, 73.4, 68, 75.2, 77]],\n",
    "    ['Germany', [57.2, 55.4, 59, 59, 53.6]],\n",
    "    ['Russia', [35.6, 37.4, 39.2, 41, 42.8, 39.2, 35.6]],\n",
    "    ['Poland', [50, 50, 53.6, 57.2, 55.4, 55.4]]\n",
    "]\n",
    "print('Средняя температура в странах')\n",
    "for tmp in countries_temperature:\n",
    "    s = (((sum(tmp[1])//len(tmp [1]))-32)/1.8)\n",
    "    print(f'{tmp[0]} - {s:.1f} oC')\n",
    "    i+=1\n"
   ]
  },
  {
   "cell_type": "code",
   "execution_count": null,
   "metadata": {},
   "outputs": [],
   "source": []
  }
 ],
 "metadata": {
  "kernelspec": {
   "display_name": "Python 3",
   "language": "python",
   "name": "python3"
  },
  "language_info": {
   "codemirror_mode": {
    "name": "ipython",
    "version": 3
   },
   "file_extension": ".py",
   "mimetype": "text/x-python",
   "name": "python",
   "nbconvert_exporter": "python",
   "pygments_lexer": "ipython3",
   "version": "3.8.3"
  }
 },
 "nbformat": 4,
 "nbformat_minor": 4
}
