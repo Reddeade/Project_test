{
 "cells": [
  {
   "cell_type": "markdown",
   "metadata": {},
   "source": [
    "## Домашнее задание к лекции «Понятие класса»"
   ]
  },
  {
   "cell_type": "markdown",
   "metadata": {},
   "source": [
    "### Задание 1\n",
    "#### Напишите функцию, которая возвращает название валюты (поле ‘Name’) с максимальным значением курса с помощью сервиса https://www.cbr-xml-daily.ru/daily_json.js"
   ]
  },
  {
   "cell_type": "code",
   "execution_count": 13,
   "metadata": {},
   "outputs": [
    {
     "name": "stdout",
     "output_type": "stream",
     "text": [
      "СДР (специальные права заимствования)\n"
     ]
    }
   ],
   "source": [
    "import requests\n",
    "import json\n",
    "def max_valute_name(response=requests.get(\"https://www.cbr-xml-daily.ru/daily_json.js\")):\n",
    "    values = json.loads(response.text)\n",
    "    max_valute = 0\n",
    "    for valute in values['Valute'].values():\n",
    "        if valute['Value'] > max_valute:\n",
    "            max_valute = valute['Value']\n",
    "            max_name = valute['Name']\n",
    "    return max_name\n",
    "\n",
    "print(max_valute_name())"
   ]
  },
  {
   "cell_type": "markdown",
   "metadata": {},
   "source": [
    "### Задание 2\n",
    "#### Добавьте в класс Rate параметр diff (со значениями True или False), который в случае значения True в методах курсов валют (eur, usd итд) будет возвращать не курс валюты, а изменение по сравнению в прошлым значением. Считайте, self.diff будет принимать значение True только при возврате значения курса. При отображении всей информации о валюте он не используется."
   ]
  },
  {
   "cell_type": "code",
   "execution_count": 9,
   "metadata": {},
   "outputs": [
    {
     "name": "stdout",
     "output_type": "stream",
     "text": [
      "{'ID': 'R01239', 'NumCode': '978', 'CharCode': 'EUR', 'Nominal': 1, 'Name': 'Евро', 'Value': 89.8262, 'Previous': 89.2887}\n",
      "89.8262\n",
      "-0.5374999999999943\n"
     ]
    }
   ],
   "source": [
    "import requests\n",
    "import json\n",
    "class Rate:\n",
    "    \n",
    "    def __init__(self, format_='value', diff=False):\n",
    "        self.format = format_\n",
    "        self.diff = diff\n",
    "    \n",
    "    def exchange_rates(self):\n",
    "        \"\"\"\n",
    "        Возвращает ответ сервиса с информацией о валютах в виде:\n",
    "        \n",
    "        {\n",
    "            'AMD': {\n",
    "                'CharCode': 'AMD',\n",
    "                'ID': 'R01060',\n",
    "                'Name': 'Армянских драмов',\n",
    "                'Nominal': 100,\n",
    "                'NumCode': '051',\n",
    "                'Previous': 14.103,\n",
    "                'Value': 14.0879\n",
    "                },\n",
    "            ...\n",
    "        }\n",
    "        \"\"\"\n",
    "        self.r = requests.get('https://www.cbr-xml-daily.ru/daily_json.js')\n",
    "        return self.r.json()['Valute']\n",
    "    \n",
    "    def make_format(self, currency):\n",
    "        \"\"\"\n",
    "       Информация о валюте:\n",
    "        {\n",
    "            'CharCode': 'EUR',\n",
    "            'ID': 'R01239',\n",
    "            'Name': 'Евро',\n",
    "            'Nominal': 1,\n",
    "            'NumCode': '978',\n",
    "            'Previous': 89.2887,\n",
    "            'Value': 89.8262\n",
    "        }\n",
    "        \n",
    "        Rate('value').make_format('EUR')\n",
    "        89.8262\n",
    "        \"\"\"\n",
    "        response = self.exchange_rates()\n",
    "        \n",
    "        if currency in response:\n",
    "            if self.format == 'full':\n",
    "                return response[currency]\n",
    "            \n",
    "            if self.format == 'value':\n",
    "                if self.diff:\n",
    "                    return response[currency]['Previous'] - response[currency]['Value']\n",
    "                else:\n",
    "                    return response[currency]['Value']\n",
    "                \n",
    "        return 'Error'\n",
    "    \n",
    "    def eur(self):\n",
    "        \"\"\"Возвращает курс евро на сегодня в формате self.format\"\"\"\n",
    "        return self.make_format('EUR')\n",
    "    \n",
    "    def usd(self):\n",
    "        \"\"\"Возвращает курс доллара на сегодня в формате self.format\"\"\"\n",
    "        return self.make_format('USD')\n",
    "    \n",
    "r = Rate(format_='full')\n",
    "print(r.eur())\n",
    "r = Rate()\n",
    "print(r.eur())\n",
    "r = Rate(diff=True)\n",
    "print(r.eur())\n",
    "    "
   ]
  },
  {
   "cell_type": "markdown",
   "metadata": {},
   "source": [
    "### Задание 3\n",
    "#### Напишите класс Designer, который учитывает количество международных премий. Подсказки в коде занятия в разделе “Домашнее задание задача 3”.\n",
    "\n",
    "##### Комментарий по классу Designer такой:\n",
    "##### Напишите класс Designer, который учитывает количество международных премий для дизайнеров (из презентации: “Повышение на 1 грейд за каждые 7 баллов. Получение международной премии – это +2 балла”). Считайте, что при выходе на работу сотрудник уже имеет две премии и их количество не меняется со стажем (конечно если хотите это можно вручную менять).\n",
    "\n",
    "##### Класс Designer пишется по аналогии с классом Developer из материалов занятия. Комментарий про его условия Вика написала выше: “Повышение на 1 грейд за каждые 7 баллов. Получение международной премии – это +2 балла”"
   ]
  },
  {
   "cell_type": "code",
   "execution_count": 10,
   "metadata": {},
   "outputs": [],
   "source": [
    "from libs.exchange import Employee\n",
    "class Designer(Employee):\n",
    "    \n",
    "    def __init__(self, name, seniority, awards):\n",
    "        super().__init__(name, seniority)\n",
    "        self.awards = awards\n",
    "    \n",
    "    def check_if_it_is_time_for_upgrade(self):\n",
    "        self.seniority += 1\n",
    "        self.grade = (self.seniority + self.awards * 2) // 7\n",
    "        # результаты\n",
    "        return self.publish_grade()"
   ]
  },
  {
   "cell_type": "code",
   "execution_count": 11,
   "metadata": {},
   "outputs": [
    {
     "name": "stdout",
     "output_type": "stream",
     "text": [
      "2 - премий всего, 4 - баллов\n",
      "Елена 0\n",
      "2 - премий всего, 5 - баллов\n",
      "Елена 0\n",
      "2 - премий всего, 6 - баллов\n",
      "Елена 1\n",
      "2 - премий всего, 7 - баллов\n",
      "Елена 1\n",
      "2 - премий всего, 8 - баллов\n",
      "Елена 1\n",
      "2 - премий всего, 9 - баллов\n",
      "Елена 1\n",
      "2 - премий всего, 10 - баллов\n",
      "Елена 1\n",
      "2 - премий всего, 11 - баллов\n",
      "Елена 1\n",
      "2 - премий всего, 12 - баллов\n",
      "Елена 1\n",
      "2 - премий всего, 13 - баллов\n",
      "Елена 2\n",
      "2 - премий всего, 14 - баллов\n",
      "Елена 2\n",
      "2 - премий всего, 15 - баллов\n",
      "Елена 2\n",
      "2 - премий всего, 16 - баллов\n",
      "Елена 2\n",
      "2 - премий всего, 17 - баллов\n",
      "Елена 2\n",
      "2 - премий всего, 18 - баллов\n",
      "Елена 2\n",
      "2 - премий всего, 19 - баллов\n",
      "Елена 2\n",
      "2 - премий всего, 20 - баллов\n",
      "Елена 3\n",
      "2 - премий всего, 21 - баллов\n",
      "Елена 3\n",
      "2 - премий всего, 22 - баллов\n",
      "Елена 3\n",
      "2 - премий всего, 23 - баллов\n",
      "Елена 3\n"
     ]
    }
   ],
   "source": [
    "elena = Designer('Елена', seniority=0, awards=2)\n",
    "for i in range(20):\n",
    "    print(f'{elena.awards} - премий всего, {elena.seniority+elena.awards * 2} - баллов')\n",
    "    elena.check_if_it_is_time_for_upgrade()"
   ]
  }
 ],
 "metadata": {
  "kernelspec": {
   "display_name": "Python 3",
   "language": "python",
   "name": "python3"
  },
  "language_info": {
   "codemirror_mode": {
    "name": "ipython",
    "version": 3
   },
   "file_extension": ".py",
   "mimetype": "text/x-python",
   "name": "python",
   "nbconvert_exporter": "python",
   "pygments_lexer": "ipython3",
   "version": "3.8.3"
  }
 },
 "nbformat": 4,
 "nbformat_minor": 4
}
