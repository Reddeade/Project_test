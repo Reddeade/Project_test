{
 "cells": [
  {
   "cell_type": "markdown",
   "metadata": {},
   "source": [
    "### Домашнее задание к лекции «Исключения и обработка ошибок»"
   ]
  },
  {
   "cell_type": "markdown",
   "metadata": {},
   "source": [
    "### Задание 1\n",
    "\n",
    "#### Печатные газеты использовали свой формат дат для каждого выпуска. Для каждой газеты из списка напишите формат указанной даты для перевода в объект datetime:\n",
    "##### The Moscow Times - Wednesday, October 2, 2002\n",
    "##### The Guardian - Friday, 11.10.13\n",
    "##### Daily News - Thursday, 18 August 1977"
   ]
  },
  {
   "cell_type": "code",
   "execution_count": 33,
   "metadata": {
    "scrolled": true
   },
   "outputs": [
    {
     "name": "stdout",
     "output_type": "stream",
     "text": [
      "The Moscow Times -  2002-10-01 00:00:00\n",
      "The Guardian - 2013-11-10 00:00:00\n",
      "Daily News - 1977-08-18 00:00:00\n"
     ]
    }
   ],
   "source": [
    "from datetime import datetime\n",
    "MT = datetime.strptime('Wednesday, October 2, 2002', '%A, %B %w, %Y') # format of The Moscow Times - Wednesday, October 2, 2002\n",
    "GF = datetime.strptime('Friday, 11.10.13', '%A, %m.%d.%y') # format of The Guardian - Friday, 11.10.13\n",
    "DN = datetime.strptime('18 August 1977', '%d %B %Y') # format of a Daily News - Thursday, 18 August 1977\n",
    "print ('The Moscow Times - ', MT)\n",
    "print ('The Guardian -', GF)\n",
    "print ('Daily News -', DN)"
   ]
  },
  {
   "cell_type": "markdown",
   "metadata": {},
   "source": [
    "### Задание 2\n",
    "#### Дан поток дат в формате YYYY-MM-DD, в которых встречаются некорректные значения:\n",
    "#### stream = [‘2018-04-02’, ‘2018-02-29’, ‘2018-19-02’]\n",
    "\n",
    "##### Напишите функцию, которая проверяет эти даты на корректность. Т. е. для каждой даты возвращает True (дата корректна) или False (некорректная дата)."
   ]
  },
  {
   "cell_type": "code",
   "execution_count": 80,
   "metadata": {
    "scrolled": true
   },
   "outputs": [
    {
     "name": "stdout",
     "output_type": "stream",
     "text": [
      "[True, False, False]\n"
     ]
    }
   ],
   "source": [
    "stream = ['2018-04-02', '2018-02-29', '2018-19-02']\n",
    "stream_str = []\n",
    "for each in stream:\n",
    "    if type(each) == 'datetime.datetime':\n",
    "        stream_str.append(each.strftime('%Y-%m-%d'))\n",
    "    else:\n",
    "        stream_str.append(each)\n",
    "from datetime import datetime\n",
    "def validate(date_text):\n",
    "    try:\n",
    "        if date_text != datetime.strptime(date_text, \"%Y-%m-%d\").strftime('%Y-%m-%d'):\n",
    "            raise ValueError\n",
    "        return True\n",
    "    except ValueError:\n",
    "        return False\n",
    "print (list(map(validate, stream_str)))\n"
   ]
  },
  {
   "cell_type": "markdown",
   "metadata": {},
   "source": [
    "### Задание 3\n",
    "#### Напишите функцию date_range, которая возвращает список дат за период от start_date до end_date. Даты должны вводиться в формате YYYY-MM-DD. В случае неверного формата или при start_date > end_date должен возвращаться пустой список."
   ]
  },
  {
   "cell_type": "code",
   "execution_count": 179,
   "metadata": {
    "scrolled": true
   },
   "outputs": [
    {
     "name": "stdout",
     "output_type": "stream",
     "text": [
      "2018-01-01\n",
      "2018-01-02\n",
      "2018-01-03\n",
      "2018-01-04\n",
      "2018-01-05\n",
      "2018-01-06\n",
      "2018-01-07\n",
      "2018-01-08\n",
      "2018-01-09\n",
      "2018-01-10\n",
      "2018-01-11\n"
     ]
    }
   ],
   "source": [
    "from datetime import timedelta\n",
    "start_date = '2018-01-01'\n",
    "end_date = '2018-01-11'\n",
    "date_list=[]\n",
    "def date_range ():\n",
    "    try:\n",
    "        start_date_datetime = datetime.strptime(start_date,'%Y-%m-%d')\n",
    "        end_date_datetime = datetime.strptime(end_date,'%Y-%m-%d')\n",
    "        if start_date_datetime>end_date_datetime:\n",
    "            print(date_list)\n",
    "        else:\n",
    "            while start_date_datetime <=end_date_datetime:\n",
    "                date_list.append(start_date_datetime.strftime('%Y-%m-%d'))\n",
    "                start_date_datetime += timedelta(days=1)\n",
    "            print('\\n'.join(date_list))\n",
    "    except:\n",
    "        print(date_list)\n",
    "date_range ()\n",
    "   "
   ]
  },
  {
   "cell_type": "code",
   "execution_count": 176,
   "metadata": {},
   "outputs": [
    {
     "name": "stdout",
     "output_type": "stream",
     "text": [
      "[]\n"
     ]
    }
   ],
   "source": [
    "#неверная дата\n",
    "from datetime import timedelta\n",
    "start_date = '2018-01-11'\n",
    "end_date = '2018-01-01'\n",
    "date_list=[]\n",
    "def date_range ():\n",
    "    try:\n",
    "        start_date_datetime = datetime.strptime(start_date,'%Y-%m-%d')\n",
    "        end_date_datetime = datetime.strptime(end_date,'%Y-%m-%d')\n",
    "        if start_date_datetime>end_date_datetime:\n",
    "            print(date_list)\n",
    "        else:\n",
    "            while start_date_datetime <=end_date_datetime:\n",
    "                date_list.append(start_date_datetime.strftime('%Y-%m-%d'))\n",
    "                start_date_datetime += timedelta(days=1)\n",
    "            print('\\n'.join(date_list))\n",
    "    except:\n",
    "        print(date_list)\n",
    "date_range ()"
   ]
  },
  {
   "cell_type": "code",
   "execution_count": 178,
   "metadata": {},
   "outputs": [
    {
     "name": "stdout",
     "output_type": "stream",
     "text": [
      "[]\n"
     ]
    }
   ],
   "source": [
    "#неверный формат\n",
    "from datetime import timedelta\n",
    "start_date = '18.01.2018'\n",
    "end_date = '2018-01-01'\n",
    "date_list=[]\n",
    "def date_range ():\n",
    "    try:\n",
    "        start_date_datetime = datetime.strptime(start_date,'%Y-%m-%d')\n",
    "        end_date_datetime = datetime.strptime(end_date,'%Y-%m-%d')\n",
    "        if start_date_datetime>end_date_datetime:\n",
    "            print(date_list)\n",
    "        else:\n",
    "            while start_date_datetime <=end_date_datetime:\n",
    "                date_list.append(start_date_datetime.strftime('%Y-%m-%d'))\n",
    "                start_date_datetime += timedelta(days=1)\n",
    "            print('\\n'.join(date_list))\n",
    "    except:\n",
    "        print(date_list)\n",
    "date_range ()"
   ]
  }
 ],
 "metadata": {
  "kernelspec": {
   "display_name": "Python 3",
   "language": "python",
   "name": "python3"
  },
  "language_info": {
   "codemirror_mode": {
    "name": "ipython",
    "version": 3
   },
   "file_extension": ".py",
   "mimetype": "text/x-python",
   "name": "python",
   "nbconvert_exporter": "python",
   "pygments_lexer": "ipython3",
   "version": "3.8.3"
  }
 },
 "nbformat": 4,
 "nbformat_minor": 4
}
